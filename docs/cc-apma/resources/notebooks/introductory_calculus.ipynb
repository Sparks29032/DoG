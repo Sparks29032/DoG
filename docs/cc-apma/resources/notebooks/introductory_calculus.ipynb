{
  "nbformat": 4,
  "nbformat_minor": 0,
  "metadata": {
    "colab": {
      "provenance": []
    },
    "kernelspec": {
      "name": "python3",
      "display_name": "Python 3"
    },
    "language_info": {
      "name": "python"
    }
  },
  "cells": [
    {
      "cell_type": "markdown",
      "source": [
        "We will start by importing some libraries to help us plot functions."
      ],
      "metadata": {
        "id": "E93UU4Ii_hny"
      }
    },
    {
      "cell_type": "code",
      "execution_count": null,
      "metadata": {
        "id": "1_3orEpd_dE4"
      },
      "outputs": [],
      "source": [
        "import numpy\n",
        "import matplotlib.pyplot as plt"
      ]
    },
    {
      "cell_type": "markdown",
      "source": [
        "Now let us try plotting a cubic polynomial named f(x)\n",
        "$$f(x) = x^3 - 6x^2 + 12x - 8$$"
      ],
      "metadata": {
        "id": "uTvUFUiUAA3x"
      }
    },
    {
      "cell_type": "code",
      "source": [
        "# Create our cubic polynomial x^3 - 6x^2 + 12x - 8\n",
        "f = numpy.poly1d([1, -6, 12, 8])\n",
        "\n",
        "# Plot our cubic from x=-1 to x=5\n",
        "x = numpy.linspace(-1, 5)\n",
        "plt.plot(x, f(x), label=\"f(x)\")\n",
        "plt.legend()\n",
        "plt.grid()\n",
        "plt.show()"
      ],
      "metadata": {
        "id": "RWYvN1mE_wS4"
      },
      "execution_count": null,
      "outputs": []
    },
    {
      "cell_type": "markdown",
      "source": [
        "Now let us approximate the derivative. Recall the derivative is defined as\n",
        "$$f'(x) = \\lim_{h \\rightarrow 0} \\frac{f(x + h) - f(x)}{h}$$\n",
        "We can approximate the derivative with\n",
        "$$f'(x) \\approx \\frac{f(x + h) - f(x)}{h}$$\n",
        "for some small $h$."
      ],
      "metadata": {
        "id": "RS0MdRXmBiX3"
      }
    },
    {
      "cell_type": "code",
      "source": [
        "# Takes in a function f, x value, and small h\n",
        "# Returns an approximation of f'(x)\n",
        "def derivative(f, x, h):\n",
        "  return (f(x + h) - f(x)) / h"
      ],
      "metadata": {
        "id": "sz3ibzDvAZHm"
      },
      "execution_count": null,
      "outputs": []
    },
    {
      "cell_type": "markdown",
      "source": [
        "Plug in our cubic into our derivative approximator and plot it on top of our cubic"
      ],
      "metadata": {
        "id": "ImqqJ4qQC39y"
      }
    },
    {
      "cell_type": "code",
      "source": [
        "# Use h = 0.1 and stay in the region (-1, 5)\n",
        "h = 0.1\n",
        "x = numpy.linspace(-1, 5)\n",
        "\n",
        "# Plot the cubic\n",
        "plt.plot(x, f(x), label=\"f(x)\")\n",
        "\n",
        "# Plot the derivative\n",
        "plt.plot(x, derivative(f, x, h), label=\"f'(x)\")\n",
        "\n",
        "# Show\n",
        "plt.legend()\n",
        "plt.grid()\n",
        "plt.show()"
      ],
      "metadata": {
        "id": "5VFDz08UCtQa"
      },
      "execution_count": null,
      "outputs": []
    },
    {
      "cell_type": "markdown",
      "source": [
        "We can also take the derivative analytically and plot to make sure our approximation works. The derivative of our cubic is\n",
        "$$f'(x) = 3x^2 - 12x + 12$$\n",
        "Let us plot this along with the approximated derivative."
      ],
      "metadata": {
        "id": "aB_xpR_tDvRc"
      }
    },
    {
      "cell_type": "code",
      "source": [
        "# Use h = 0.1 and region (-1, 5)\n",
        "h = 0.1\n",
        "x = numpy.linspace(-1, 5)\n",
        "\n",
        "# Define and plot the analytic derivative\n",
        "f_prime = numpy.poly1d([3, -12, 12])\n",
        "plt.plot(x, f_prime(x), label=\"f'(x) calculated\", color=\"green\")\n",
        "\n",
        "# Plot the approximated derivative\n",
        "plt.plot(x, derivative(f, x, h), label=\"f'(x) approximated\", color=\"red\")\n",
        "\n",
        "# Show\n",
        "plt.legend()\n",
        "plt.grid()\n",
        "plt.show()"
      ],
      "metadata": {
        "id": "E5xdNNdbDJ1w"
      },
      "execution_count": null,
      "outputs": []
    },
    {
      "cell_type": "markdown",
      "source": [
        "We can refine our approximation by using a smaller $h$."
      ],
      "metadata": {
        "id": "uGfq8PkpFn5q"
      }
    },
    {
      "cell_type": "code",
      "source": [
        "# Use h = 0.001 and region (-1, 5)\n",
        "h = 0.001\n",
        "x = numpy.linspace(-1, 5)\n",
        "\n",
        "# Define and plot the analytic derivative\n",
        "f_prime = numpy.poly1d([3, -12, 12])\n",
        "plt.plot(x, f_prime(x), label=\"f'(x) calculated\", color=\"green\")\n",
        "\n",
        "# Plot the approximated derivative\n",
        "plt.plot(x, derivative(f, x, h), label=\"f'(x) approximated\", color=\"red\")\n",
        "\n",
        "# Show\n",
        "plt.legend()\n",
        "plt.grid()\n",
        "plt.show()"
      ],
      "metadata": {
        "id": "2eFXrqAuEt-7"
      },
      "execution_count": null,
      "outputs": []
    },
    {
      "cell_type": "markdown",
      "source": [
        "Now let us investigate integration. We can approximate an integral using Riemann summation\n",
        "$$\\int_0^x f(t)dt \\approx \\sum_{i = 0}^N f\\left(i\\Delta\\right) \\cdot \\Delta$$\n",
        "where $\\Delta = \\frac{x}{N}$. The larger $N$ (the number of rectangles used) is, the smaller $\\Delta$ is, and the better our approximation becomes."
      ],
      "metadata": {
        "id": "XGInZ8OcF3en"
      }
    },
    {
      "cell_type": "code",
      "source": [
        "def integral(f, x, N):\n",
        "  sum = 0\n",
        "  delta = x / N\n",
        "  for i in range(N + 1):\n",
        "    sum += f(i * delta) * delta\n",
        "  return sum"
      ],
      "metadata": {
        "id": "337hamp_F0Hu"
      },
      "execution_count": null,
      "outputs": []
    },
    {
      "cell_type": "code",
      "source": [
        "# Use N = 100 and region (-1, 5)\n",
        "N = 100\n",
        "x = numpy.linspace(-1, 5)\n",
        "\n",
        "# Plot the cubic\n",
        "plt.plot(x, f(x), label=\"f(x)\")\n",
        "\n",
        "# Plot the integral\n",
        "plt.plot(x, integral(f, x, N), label=\"F(x)\")\n",
        "\n",
        "# Show\n",
        "plt.legend()\n",
        "plt.grid()\n",
        "plt.show()"
      ],
      "metadata": {
        "id": "pb-PxNWzHepq"
      },
      "execution_count": null,
      "outputs": []
    },
    {
      "cell_type": "markdown",
      "source": [
        "We can also take the integral analytically to get\n",
        "$$F(x) = \\frac{1}{4}x^4 - 2x^3 + 6x^2 + 8x + C$$\n",
        "For convenience, we are using $C = 0$."
      ],
      "metadata": {
        "id": "_uRHjNK0ID8S"
      }
    },
    {
      "cell_type": "code",
      "source": [
        "# Use N = 100 and region (-1, 5)\n",
        "N = 100\n",
        "x = numpy.linspace(-1, 5)\n",
        "\n",
        "# Define and plot the analytic derivative\n",
        "F = numpy.poly1d([0.25, -2, 6, 8, 0])\n",
        "plt.plot(x, F(x), label=\"F(x) calculated\", color=\"green\")\n",
        "\n",
        "# Plot the approximated derivative\n",
        "plt.plot(x, integral(f, x, N), label=\"F(x) approximated\", color=\"red\")\n",
        "\n",
        "# Show\n",
        "plt.legend()\n",
        "plt.grid()\n",
        "plt.show()"
      ],
      "metadata": {
        "id": "wxelgugCHmeK"
      },
      "execution_count": null,
      "outputs": []
    },
    {
      "cell_type": "markdown",
      "source": [
        "Refine our approximation by using larger $N$."
      ],
      "metadata": {
        "id": "gzSobmaIIg09"
      }
    },
    {
      "cell_type": "code",
      "source": [
        "# Use N = 1000 and region (-1, 5)\n",
        "N = 1000\n",
        "x = numpy.linspace(-1, 5)\n",
        "\n",
        "# Define and plot the analytic derivative\n",
        "F = numpy.poly1d([0.25, -2, 6, 8, 0])\n",
        "plt.plot(x, F(x), label=\"F(x) calculated\", color=\"green\")\n",
        "\n",
        "# Plot the approximated derivative\n",
        "plt.plot(x, integral(f, x, N), label=\"F(x) approximated\", color=\"red\")\n",
        "\n",
        "# Show\n",
        "plt.legend()\n",
        "plt.grid()\n",
        "plt.show()"
      ],
      "metadata": {
        "id": "AL1dLlcqIaDR"
      },
      "execution_count": null,
      "outputs": []
    },
    {
      "cell_type": "markdown",
      "source": [
        "That's it for simple approximations! For further practice, try taking derivatives and integrals of other functions like sine, cosine, exponentials, etcetera."
      ],
      "metadata": {
        "id": "eW2rOmonIqGW"
      }
    }
  ]
}