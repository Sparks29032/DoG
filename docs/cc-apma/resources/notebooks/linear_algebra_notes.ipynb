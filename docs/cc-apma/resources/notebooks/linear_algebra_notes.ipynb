{
  "cells": [
    {
      "cell_type": "markdown",
      "metadata": {
        "id": "LF_XqeSSYsZy"
      },
      "source": [
        "# Linear Algebra"
      ]
    },
    {
      "cell_type": "markdown",
      "metadata": {
        "id": "7gCx7EHFYsZz"
      },
      "source": [
        "## SymPy"
      ]
    },
    {
      "cell_type": "code",
      "execution_count": null,
      "metadata": {
        "colab": {
          "base_uri": "https://localhost:8080/",
          "height": 51
        },
        "id": "EwNC31PnYsZ0",
        "outputId": "b0bd3a26-d542-4c84-8e6f-666849d588f8"
      },
      "outputs": [
        {
          "output_type": "execute_result",
          "data": {
            "text/plain": [
              "1/2"
            ],
            "text/latex": "$\\displaystyle \\frac{1}{2}$"
          },
          "metadata": {},
          "execution_count": 2
        }
      ],
      "source": [
        "import sympy as sym\n",
        "from sympy import *\n",
        "a = sym.Rational(1, 2)\n",
        "a"
      ]
    },
    {
      "cell_type": "code",
      "execution_count": null,
      "metadata": {
        "colab": {
          "base_uri": "https://localhost:8080/",
          "height": 39
        },
        "id": "VKljeRAmYsZ1",
        "outputId": "b309973b-011e-48e5-ee5d-8c7643cc8f4d"
      },
      "outputs": [
        {
          "output_type": "execute_result",
          "data": {
            "text/plain": [
              "x"
            ],
            "text/latex": "$\\displaystyle x$"
          },
          "metadata": {},
          "execution_count": 2
        }
      ],
      "source": [
        "x = sym.Symbol('x')\n",
        "y = sym.Symbol('y')\n",
        "z = sym.Symbol('z')\n",
        "x"
      ]
    },
    {
      "cell_type": "markdown",
      "metadata": {
        "id": "G9yW-qmzYsZ2"
      },
      "source": [
        "## Definition of Linear Algebra"
      ]
    },
    {
      "cell_type": "markdown",
      "metadata": {
        "id": "FpCARGsCYsZ2"
      },
      "source": [
        "**Linear algebra** is the branch of mathematics that is related to the:\n",
        "1. theory of **vectors**, **matrices**, and their **linear equations**     \n",
        "2. theory of **systems of linear equations**\n",
        "3. (theory of eigenvalues) _*not covered_\n",
        "\n",
        "**What is the significance? (i.e. Why is this important?)**\n",
        "\n",
        "$\\rightarrow$ not only important for geometric concepts, but also applicable to scientific and industrial applications like machine learning (esp deep learning), or any analysis involving algorithmic decision making.\n",
        "\n",
        "The importance of linear algebra for applications has risen in direct proportion to the increase in the need for computing power.\n",
        "\n",
        "Let’s break down the definition that we gave for linear algebra:"
      ]
    },
    {
      "cell_type": "markdown",
      "metadata": {
        "id": "gkWil0nmYsZ3"
      },
      "source": [
        "## Vectors"
      ]
    },
    {
      "cell_type": "markdown",
      "metadata": {
        "id": "Rhjg1gv1YsZ3"
      },
      "source": [
        "> **Vectors** are any objects that have magnitude and direction (i.e. scalable properties)\n",
        "\n",
        "For example we can express the position of a boat traveling 4 mph east and 3 mph north as the vector `(4, 3)`, or `4i + 3j` (where `i` and `j` are vectors of unit length parallel to the x and y axes, or east and north respectfully). We can also express it in matrix form:"
      ]
    },
    {
      "cell_type": "code",
      "execution_count": null,
      "metadata": {
        "colab": {
          "base_uri": "https://localhost:8080/",
          "height": 78
        },
        "id": "x_DZIWbfYsZ4",
        "outputId": "215a6f34-cfe2-4714-cd1b-3a4fff5aced3"
      },
      "outputs": [
        {
          "output_type": "execute_result",
          "data": {
            "text/plain": [
              "Matrix([\n",
              "[4, 2],\n",
              "[3, 1],\n",
              "[a, b]])"
            ],
            "text/latex": "$\\displaystyle \\left[\\begin{matrix}4 & 2\\\\3 & 1\\\\a & b\\end{matrix}\\right]$"
          },
          "metadata": {},
          "execution_count": 5
        }
      ],
      "source": [
        "sym.Matrix([[4, 2], [3, 1], ['a', 'b']])"
      ]
    },
    {
      "cell_type": "code",
      "execution_count": null,
      "metadata": {
        "colab": {
          "base_uri": "https://localhost:8080/",
          "height": 78
        },
        "id": "jeBITfdtYsZ4",
        "outputId": "54693c7f-1223-4c38-bb60-e4eb134e4977"
      },
      "outputs": [
        {
          "output_type": "execute_result",
          "data": {
            "text/plain": [
              "Matrix([\n",
              "[4, row1],\n",
              "[3, row2],\n",
              "[1,    2]])"
            ],
            "text/latex": "$\\displaystyle \\left[\\begin{matrix}4 & row_{1}\\\\3 & row_{2}\\\\1 & 2\\end{matrix}\\right]$"
          },
          "metadata": {},
          "execution_count": 8
        }
      ],
      "source": [
        "Matrix([[4, 'row1'], [3, 'row2'], [1, 2]])"
      ]
    },
    {
      "cell_type": "markdown",
      "metadata": {
        "id": "bD1x-5TiYsZ4"
      },
      "source": [
        "## Linear Equations and Systems"
      ]
    },
    {
      "cell_type": "markdown",
      "metadata": {
        "id": "eFbWI0czYsZ5"
      },
      "source": [
        "> **Linear Equations** (aka linear combinations) are of the form $a_1x_1 + a_2x_2 +  ...  + a_nx_n = b$ (where $x_1, ... , x_n$ are variables or vectors).\n",
        "\n",
        "A **system of Linear Equations**, or a linear system, is a collection of one or more linear equations involving the same set of variables (i.e. $x_1, ..., x_n$).\n",
        "\n",
        "For example:"
      ]
    },
    {
      "cell_type": "code",
      "execution_count": null,
      "metadata": {
        "id": "y2wZpnRNYsZ5",
        "outputId": "44c02f79-fed6-48db-fb33-be784bcdf7bc",
        "colab": {
          "base_uri": "https://localhost:8080/",
          "height": 39
        }
      },
      "outputs": [
        {
          "output_type": "execute_result",
          "data": {
            "image/png": "[encoded data removed]",
            "text/latex": "$\\displaystyle 2 x + 5 y + 3 z = 1$",
            "text/plain": [
              "2⋅x + 5⋅y + 3⋅z = 1"
            ]
          },
          "metadata": {},
          "execution_count": 7
        }
      ],
      "source": [
        "equation1 = sym.Eq(2*x + 5*y + 3*z, 1)\n",
        "equation2 = sym.Eq(3*x + 7*y + 6*z, 4)\n",
        "equation3 = sym.Eq(5*x + 3*y + 1*z, 6)\n",
        "equation1"
      ]
    },
    {
      "cell_type": "code",
      "execution_count": null,
      "metadata": {
        "id": "zaCygt-BYsZ5",
        "outputId": "677e55fb-8b42-4fdc-cae3-e424a2372ab7",
        "colab": {
          "base_uri": "https://localhost:8080/",
          "height": 39
        }
      },
      "outputs": [
        {
          "output_type": "execute_result",
          "data": {
            "image/png": "[encoded data removed]",
            "text/latex": "$\\displaystyle 3 x + 7 y + 6 z = 4$",
            "text/plain": [
              "3⋅x + 7⋅y + 6⋅z = 4"
            ]
          },
          "metadata": {},
          "execution_count": 8
        }
      ],
      "source": [
        "equation2"
      ]
    },
    {
      "cell_type": "code",
      "execution_count": null,
      "metadata": {
        "id": "11Xi0IDSYsZ6",
        "outputId": "2a61a81b-3a2a-4ff7-e81e-a3f18f71d207",
        "colab": {
          "base_uri": "https://localhost:8080/",
          "height": 39
        }
      },
      "outputs": [
        {
          "output_type": "execute_result",
          "data": {
            "image/png": "[encoded data removed]",
            "text/latex": "$\\displaystyle 5 x + 3 y + z = 6$",
            "text/plain": [
              "5⋅x + 3⋅y + z = 6"
            ]
          },
          "metadata": {},
          "execution_count": 9
        }
      ],
      "source": [
        "equation3"
      ]
    },
    {
      "cell_type": "markdown",
      "metadata": {
        "id": "hzN8iu1eYsZ6"
      },
      "source": [
        "\n",
        "\n",
        "We use **matrices** to organize and solve linear systems: ( e.g. $\\downarrow$ coefficient matrix representation of the above linear system)"
      ]
    },
    {
      "cell_type": "code",
      "execution_count": null,
      "metadata": {
        "id": "cnYwlSfnYsZ6",
        "outputId": "cc1cf794-8bba-479a-e795-4794bb72d410",
        "colab": {
          "base_uri": "https://localhost:8080/",
          "height": 78
        }
      },
      "outputs": [
        {
          "output_type": "execute_result",
          "data": {
            "text/latex": "$\\displaystyle \\left[\\begin{matrix}2 & 5 & 3\\\\3 & 7 & 6\\\\5 & 3 & 1\\end{matrix}\\right]$",
            "text/plain": [
              "⎡2  5  3⎤\n",
              "⎢       ⎥\n",
              "⎢3  7  6⎥\n",
              "⎢       ⎥\n",
              "⎣5  3  1⎦"
            ]
          },
          "metadata": {},
          "execution_count": 40
        }
      ],
      "source": [
        "Matrix([[2, 5, 3], [3, 7, 6], [5, 3, 1]])"
      ]
    },
    {
      "cell_type": "markdown",
      "metadata": {
        "id": "1ukzKmGDYsZ7"
      },
      "source": [
        "_Note: Right now we are only solving a 3 variable, 3 equation system (which we have all learned to solve in algebra 1 or 2 or whatever), but we can extend the principles that we use here to more complex systems (i.e. systems of n variables)_"
      ]
    },
    {
      "cell_type": "markdown",
      "source": [
        "EXAMPLE:\n",
        "\n",
        "Write the following linear system of equations as a coefficient matrix"
      ],
      "metadata": {
        "id": "BuYrPf7V9tOG"
      }
    },
    {
      "cell_type": "code",
      "source": [
        "eq1 = sym.Eq(x + 2*y + 3*z, -7)\n",
        "eq2 = sym.Eq(2*x + (-3)*y + (-5)*z, 9)\n",
        "eq3 = sym.Eq((-6)*x + (-8)*y + 1*z, -22)"
      ],
      "metadata": {
        "id": "Yj54z6SDuwPi"
      },
      "execution_count": null,
      "outputs": []
    },
    {
      "cell_type": "code",
      "source": [
        "eq1"
      ],
      "metadata": {
        "colab": {
          "base_uri": "https://localhost:8080/",
          "height": 39
        },
        "id": "ewRmMyyDhrLv",
        "outputId": "86d150ef-498d-4b00-c04f-d5f796c11831"
      },
      "execution_count": null,
      "outputs": [
        {
          "output_type": "execute_result",
          "data": {
            "text/plain": [
              "Eq(x + 2*y + 3*z, -7)"
            ],
            "text/latex": "$\\displaystyle x + 2 y + 3 z = -7$"
          },
          "metadata": {},
          "execution_count": 14
        }
      ]
    },
    {
      "cell_type": "code",
      "source": [
        "eq2"
      ],
      "metadata": {
        "colab": {
          "base_uri": "https://localhost:8080/",
          "height": 39
        },
        "id": "4OaJnyqJh4_G",
        "outputId": "b842f343-cfce-485e-ac78-0f9b3b57d9c4"
      },
      "execution_count": null,
      "outputs": [
        {
          "output_type": "execute_result",
          "data": {
            "text/plain": [
              "Eq(2*x - 3*y - 5*z, 9)"
            ],
            "text/latex": "$\\displaystyle 2 x - 3 y - 5 z = 9$"
          },
          "metadata": {},
          "execution_count": 15
        }
      ]
    },
    {
      "cell_type": "code",
      "source": [
        "eq3"
      ],
      "metadata": {
        "colab": {
          "base_uri": "https://localhost:8080/",
          "height": 39
        },
        "id": "KomRfw0nh5MG",
        "outputId": "db651f58-9492-4eaa-f830-05a18c6bb551"
      },
      "execution_count": null,
      "outputs": [
        {
          "output_type": "execute_result",
          "data": {
            "text/plain": [
              "Eq(-6*x - 8*y + z, -22)"
            ],
            "text/latex": "$\\displaystyle - 6 x - 8 y + z = -22$"
          },
          "metadata": {},
          "execution_count": 16
        }
      ]
    },
    {
      "cell_type": "code",
      "source": [
        "Matrix([[1, 2, 3], [2, -3, -5], [-6, -8, 1]])"
      ],
      "metadata": {
        "colab": {
          "base_uri": "https://localhost:8080/",
          "height": 78
        },
        "id": "9Ibc6dZkuwFG",
        "outputId": "a55eae2f-2d2e-4d2e-ca67-8ca1603c9f5b"
      },
      "execution_count": null,
      "outputs": [
        {
          "output_type": "execute_result",
          "data": {
            "text/latex": "$\\displaystyle \\left[\\begin{matrix}1 & 2 & 3\\\\2 & -3 & -5\\\\-6 & -8 & 1\\end{matrix}\\right]$",
            "text/plain": [
              "⎡1   2   3 ⎤\n",
              "⎢          ⎥\n",
              "⎢2   -3  -5⎥\n",
              "⎢          ⎥\n",
              "⎣-6  -8  1 ⎦"
            ]
          },
          "metadata": {},
          "execution_count": 32
        }
      ]
    },
    {
      "cell_type": "markdown",
      "metadata": {
        "id": "3fw4Zi9RYsZ7"
      },
      "source": [
        "## Matrices and Linear Transformations:"
      ]
    },
    {
      "cell_type": "markdown",
      "metadata": {
        "id": "Hs4VhKYYYsZ7"
      },
      "source": [
        "> Defining **Matrices** more concretely: an $m \\times n$ matrix is an array of numbers arranged in $m$ rows and $n$ columns.\n",
        "\n",
        "* As we said, we can use matrices to organize and solve systems of linear equations.\n",
        "* In other words, (as stated earlier) we can define matrices as representations of **linear transformations** or **linear equations**\n",
        "\n",
        "> A **linear transformation** is defined as any function that takes an input and returns/transforms it into an output (like most geometric operations, rotations, reflections, and contractions/dilations)\n",
        "\n",
        "For example, the following matrix represents a linear transformation:"
      ]
    },
    {
      "cell_type": "markdown",
      "source": [
        "FIRST, Matrix Addition."
      ],
      "metadata": {
        "id": "fKdZ7M0O_F5c"
      }
    },
    {
      "cell_type": "code",
      "execution_count": null,
      "metadata": {
        "id": "VddPjrBaYsZ7",
        "outputId": "a729484c-549d-4741-b2ee-f578af9d1779",
        "colab": {
          "base_uri": "https://localhost:8080/",
          "height": 57
        }
      },
      "outputs": [
        {
          "output_type": "execute_result",
          "data": {
            "text/latex": "$\\displaystyle \\left[\\begin{matrix}1 & 2 & 3\\\\4 & 5 & 6\\end{matrix}\\right]$",
            "text/plain": [
              "⎡1  2  3⎤\n",
              "⎢       ⎥\n",
              "⎣4  5  6⎦"
            ]
          },
          "metadata": {},
          "execution_count": 12
        }
      ],
      "source": [
        "Matrix([[1, 2, 3], [4, 5, 6]])"
      ]
    },
    {
      "cell_type": "markdown",
      "metadata": {
        "id": "b518ELERYsZ8"
      },
      "source": [
        "Let's call the above matrix/linear transformation, $M$. Then, let us multiply $M$ by some vector $a$, leading to their  product, vector $b$.\n",
        "\n",
        "We can think of this situation in 2 ways:\n",
        "1. We can think of $M$ as a linear transformation, taking $a$ as an input and giving $b$ as an output, OR\n",
        "2. We can use the concept of **linear systems** by describing the above situation as a linear eq/function: $Ma=b \\rightarrow$ **the matrix equation**\n",
        "\n",
        "So for example, if we have an unknown vector a,"
      ]
    },
    {
      "cell_type": "code",
      "execution_count": null,
      "metadata": {
        "id": "tut8I2bGYsZ8",
        "outputId": "7e771630-cedc-44c9-f95d-23bc5ed64d98",
        "colab": {
          "base_uri": "https://localhost:8080/",
          "height": 78
        }
      },
      "outputs": [
        {
          "output_type": "execute_result",
          "data": {
            "text/latex": "$\\displaystyle \\left[\\begin{matrix}x\\\\y\\\\z\\end{matrix}\\right]$",
            "text/plain": [
              "⎡x⎤\n",
              "⎢ ⎥\n",
              "⎢y⎥\n",
              "⎢ ⎥\n",
              "⎣z⎦"
            ]
          },
          "metadata": {},
          "execution_count": 13
        }
      ],
      "source": [
        "a = Matrix([[x], [y], [z]])\n",
        "a"
      ]
    },
    {
      "cell_type": "markdown",
      "metadata": {
        "id": "o2sOq1qpYsZ8"
      },
      "source": [
        "Then given $b$ and $M$, we can solve for a vector $a$ such that M transforms $a$ to $b$ using the concept of linear systems.\n",
        "\n",
        "To understand how though, we need to look at matrix multiplication:"
      ]
    },
    {
      "cell_type": "code",
      "execution_count": null,
      "metadata": {
        "id": "Px6IpWhrYsZ9",
        "outputId": "72502434-f610-4e1e-c4a5-8e9dd19cd202",
        "colab": {
          "base_uri": "https://localhost:8080/",
          "height": 58
        }
      },
      "outputs": [
        {
          "output_type": "execute_result",
          "data": {
            "text/plain": [
              "Matrix([\n",
              "[5],\n",
              "[3]])"
            ],
            "text/latex": "$\\displaystyle \\left[\\begin{matrix}5\\\\3\\end{matrix}\\right]$"
          },
          "metadata": {},
          "execution_count": 12
        }
      ],
      "source": [
        "M = Matrix([[1, 2, 3], [3, 2, 1]])\n",
        "N = Matrix([0, 1, 1])\n",
        "MN = M*N\n",
        "MN"
      ]
    },
    {
      "cell_type": "code",
      "execution_count": null,
      "metadata": {
        "id": "GcB2ndxrYsZ9",
        "outputId": "565a11e0-16ba-4e20-d573-82aeaf66bced",
        "colab": {
          "base_uri": "https://localhost:8080/",
          "height": 37
        }
      },
      "outputs": [
        {
          "output_type": "execute_result",
          "data": {
            "image/png": "[encoded data removed]",
            "text/latex": "$\\displaystyle \\left( 2, \\  3\\right)$",
            "text/plain": [
              "(2, 3)"
            ]
          },
          "metadata": {},
          "execution_count": 15
        }
      ],
      "source": [
        "M = Matrix([[1, 2, 3], [-2, 0, 4]])\n",
        "M.shape"
      ]
    },
    {
      "cell_type": "markdown",
      "metadata": {
        "id": "YpfOoSRcYsZ9"
      },
      "source": [
        "So, for an unknown/variable $a$, $Ma=b$ represents a solvable system of linear equations, allowing us to find $a$.\n",
        "\n",
        "Now, on how to actually solve these equations!! $\\downarrow$"
      ]
    },
    {
      "cell_type": "markdown",
      "metadata": {
        "id": "8X3ySzWjYsZ9"
      },
      "source": [
        "## Row Reductions"
      ]
    },
    {
      "cell_type": "markdown",
      "metadata": {
        "id": "ARJolLZ2YsZ-"
      },
      "source": [
        "**1. Write the system of equations/matrix equation ($Ma=b$) as an augmented matrix**\n",
        "  \n",
        "  For example, $$5x-2y=-6$$ $$-x+5y=15$$ would be written as\n",
        "  $\\begin{bmatrix}\n",
        "  5 & -2\\\\\n",
        "  -1 & 5\\\\\n",
        "  \\end{bmatrix}$\n",
        "  $\\begin{bmatrix}\n",
        "  x\\\\\n",
        "  y\\\\\n",
        "  \\end{bmatrix}$\n",
        "  =\n",
        "  $\\begin{bmatrix}\n",
        "  -6\\\\\n",
        "  15\\\\\n",
        "  \\end{bmatrix}$\n",
        "\n",
        "  and the augmented matrix would be\n",
        "  $\\begin{bmatrix}\n",
        "  5 & -2 & -6\\\\\n",
        "  -1 & 5 & 15\\\\\n",
        "  \\end{bmatrix}$\n",
        "\n",
        "\n",
        "**2. Then, simplify the matrix until it is in Row Echelon Form. In Row Echelon Form,**\n",
        "    \n",
        "    1. The first non-zero entry of every row is 1.\n",
        "    2. The first non-zero entry in a row is to the right of the first non-zero entry in the row before it.\n",
        "    3. Rows of only 0 are at the bottom.\n",
        "\n",
        "**There are a few ways you can simplify the matrix this way (called elementary row operations):**\n",
        "\n",
        "    1. Swap rows\n",
        "    2. Replace a row by a scalar multiple of itself\n",
        "    3. Replace a row by itself plus a scalar multiple of another row\n",
        "\n",
        "  The augmented matrix above can be easily reduced to Row Echelon Form. We must replace the second row with itself plus the first row multiplied by 1/5. This gives the matrix below:\n",
        "  \n",
        "  $\\begin{bmatrix}\n",
        "  5 & -2 & -6\\\\\n",
        "  -1 + 5 * 1/5 & 5 - 2 * 1/5& 15 -6 * 1/5\\\\\n",
        "  \\end{bmatrix}$\n",
        "\n",
        "  $\\begin{bmatrix}\n",
        "  5 & -2 & -6\\\\\n",
        "  0 & 23/5 & 69/5\\\\\n",
        "  \\end{bmatrix}$\n",
        "\n",
        "  We then must multiply each row by a scalar so that the first non-zero entry is 1:\n",
        "\n",
        "  $\\begin{bmatrix}\n",
        "  5*1/5 & -2*1/5 & -6*1/5\\\\\n",
        "  0 & 23/5 * 5/23 & 69/5 * 5/23\\\\\n",
        "  \\end{bmatrix}$\n",
        "\n",
        "  $\\begin{bmatrix}\n",
        "  1 & -2/5 & -6/5\\\\\n",
        "  0 & 1 & 3\\\\\n",
        "  \\end{bmatrix}$\n",
        "\n",
        "\n",
        "\n",
        "**3. Once the matrix has been reduced to Row Echelon Form, solve each equation individually, starting with the bottom row of the matrix and working upward.**\n",
        "\n",
        "  This reduced matrix corresponds to the system:\n",
        "  $$x-\\frac{2}{5}y=\\frac{-6}{5}$$\n",
        "  $$y=3$$\n",
        "\n",
        "  The second equation tells us $y = 3$.\n",
        "  Plugging $y = 3$ into the first equation, we get\n",
        "  $$x - \\frac{2}{5}*3=\\frac{-6}{5}$$\n",
        "  $$x - \\frac{6}{5}=\\frac{-6}{5}$$\n",
        "\n",
        "  Therefore, $x = 0$. The system is solved by $x = 0$ and $y = 3$."
      ]
    },
    {
      "cell_type": "markdown",
      "source": [
        "**Example**"
      ],
      "metadata": {
        "id": "wPT7Hs0LvGsV"
      }
    },
    {
      "cell_type": "markdown",
      "source": [
        "Solve the following system of equations:\n",
        "$$x + y - z = 7$$\n",
        "$$x - y + 2z = 3$$\n",
        "$$2x + y + z = 9$$"
      ],
      "metadata": {
        "id": "4aZR0MPfwnvf"
      }
    },
    {
      "cell_type": "markdown",
      "source": [
        "\n",
        "\n",
        "**Row Reduction with SymPy**"
      ],
      "metadata": {
        "id": "04vBUaeYwcZO"
      }
    },
    {
      "cell_type": "code",
      "source": [
        "M = Matrix([[100, 59, 63, 71], [33, 27, 76, 94], [55, 33, 17, 61]])\n",
        "M"
      ],
      "metadata": {
        "colab": {
          "base_uri": "https://localhost:8080/",
          "height": 78
        },
        "id": "JJI_nxKlnWqt",
        "outputId": "177982ff-88b6-422f-a862-15a5c34f8f21"
      },
      "execution_count": null,
      "outputs": [
        {
          "output_type": "execute_result",
          "data": {
            "text/plain": [
              "Matrix([\n",
              "[100, 59, 63, 71],\n",
              "[ 33, 27, 76, 94],\n",
              "[ 55, 33, 17, 61]])"
            ],
            "text/latex": "$\\displaystyle \\left[\\begin{matrix}100 & 59 & 63 & 71\\\\33 & 27 & 76 & 94\\\\55 & 33 & 17 & 61\\end{matrix}\\right]$"
          },
          "metadata": {},
          "execution_count": 13
        }
      ]
    },
    {
      "cell_type": "code",
      "source": [
        "M.rref()"
      ],
      "metadata": {
        "colab": {
          "base_uri": "https://localhost:8080/"
        },
        "id": "c8_sZY4xnNy_",
        "outputId": "94472457-06dd-4957-c697-1b7870d848ba"
      },
      "execution_count": null,
      "outputs": [
        {
          "output_type": "execute_result",
          "data": {
            "text/plain": [
              "(Matrix([\n",
              " [1, 0, 0, -125428/16327],\n",
              " [0, 1, 0,  245742/16327],\n",
              " [0, 0, 1,  -12647/16327]]), (0, 1, 2))"
            ]
          },
          "metadata": {},
          "execution_count": 16
        }
      ]
    },
    {
      "cell_type": "markdown",
      "source": [
        "The above code determines that $x = 59/35$, $y = -43/35$, $z = 44/35$, solve the system:\n",
        "$$2x+5y+3z=1$$\n",
        "$$3x+7y+6z=4$$\n",
        "$$5x+3y+z=6$$"
      ],
      "metadata": {
        "id": "LDsz4qwavN98"
      }
    },
    {
      "cell_type": "markdown",
      "source": [
        "## Traffic Flow  Example"
      ],
      "metadata": {
        "id": "A8ISMfrblceL"
      }
    },
    {
      "cell_type": "markdown",
      "source": [
        "**What is traffic flow?**"
      ],
      "metadata": {
        "id": "Kp3_R5D2lhkB"
      }
    },
    {
      "cell_type": "markdown",
      "source": [
        "Traffic flow is the study of the interactions between vehicles, drivers, and infrastructure (e.g. highways, signage, traffic control devices, etc.).\n",
        "\n",
        "The goal is to understand and develop road networks that optimize the movement of traffic and minimize traffic congestion.\n",
        "\n",
        "These problems (i.e. traffic systems) rely heavily on matrices!\n",
        "\n",
        "\n",
        "\n"
      ],
      "metadata": {
        "id": "17VGPGMBwyav"
      }
    },
    {
      "cell_type": "markdown",
      "source": [
        "**How do we solve these optimization problems?**\n",
        "\n",
        "* Systems of Linear Equations to represent flow rate data! (each equation is a different part of the intersection)\n",
        "* Row reduction to find solutions for unknown rates.\n",
        "\n",
        "We need to make some assumptions:\n",
        "\n",
        "1. We assume that number of cars in = number of carts out\n",
        "2. We can also assume constant traffic flow \"in between\" sections\n",
        "\n",
        "\n",
        "\n"
      ],
      "metadata": {
        "id": "W8q8Bk7OxzlD"
      }
    },
    {
      "cell_type": "markdown",
      "source": [
        "![Page1.jpg](data:image/jpeg;base64,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)"
      ],
      "metadata": {
        "id": "QwdiuL7W57hb"
      }
    },
    {
      "cell_type": "markdown",
      "source": [
        "**Given this traffic flow data above, where 1, 2, 3, and 4, are intersections, vph = vehicles per hour, what are $x_1$, $x_2$, $x_3$, and $x_4$,  which represent traffic flow in the \"in-between\" parts?**\n",
        "\n",
        "First, we write the problem as a system of equations:\n"
      ],
      "metadata": {
        "id": "qBEfaf7IyW2-"
      }
    },
    {
      "cell_type": "code",
      "source": [
        "x1 = sym.Symbol('x1')\n",
        "x2 = sym.Symbol('x2')\n",
        "x3 = sym.Symbol('x3')\n",
        "x4 = sym.Symbol('x4')\n",
        "equation1 = sym.Eq(300 + x2, 400 + x3)\n",
        "equation2 = sym.Eq(750 + x3, 250 + x4)\n",
        "equation3 = sym.Eq(200 + x4, 300 + x1)\n",
        "equation4 = sym.Eq(100 + x1, 400 + x2)"
      ],
      "metadata": {
        "id": "rmmDAj4p1w-F"
      },
      "execution_count": null,
      "outputs": []
    },
    {
      "cell_type": "code",
      "source": [
        "solution = sym.solve([(300 + x2) - (400 + x3),\n",
        "                      (750 + x3) - (250 + x4),\n",
        "                      (300 + x1) - (200 + x4),\n",
        "                      (100 + x1) - (400 + x2)], [x1, x2, x3, x4])\n",
        "solution"
      ],
      "metadata": {
        "colab": {
          "base_uri": "https://localhost:8080/",
          "height": 39
        },
        "id": "Ve4Hk6Eq4fq_",
        "outputId": "a6eaa911-51f7-4159-b4d2-296cafd99efc"
      },
      "execution_count": null,
      "outputs": [
        {
          "output_type": "execute_result",
          "data": {
            "image/png": "[encoded data removed]",
            "text/latex": "$\\displaystyle \\left\\{ x_{1} : x_{4} - 100, \\  x_{2} : x_{4} - 400, \\  x_{3} : x_{4} - 500\\right\\}$",
            "text/plain": [
              "{x₁: x₄ - 100, x₂: x₄ - 400, x₃: x₄ - 500}"
            ]
          },
          "metadata": {},
          "execution_count": 19
        }
      ]
    },
    {
      "cell_type": "markdown",
      "source": [
        "**Other Optimization Examples**\n",
        "\n",
        "Most optimization problems have two parts:\n",
        "1. an objective function, the thing we want to maximize or minimize, and\n",
        "2. constraints, rules we must abide by to ensure we get a valid solution.\n",
        "\n",
        "As a simple example you may want to minimize the amount of time you spend doing your taxes (objective function), but you certainly can’t spend a negative amount of time on them (a constraint).\n",
        "\n",
        "In the following example, most people want to minimize the amount of money spent on food. At the same time, one needs to maintain a certain level of nutrition. For males ages 19-30, the United States National Institute for Health recommends 3.7 liters of water per day, 1,000 milligrams of calcium per day, 90 milligrams of vitamin C per day, etc.\n",
        "\n",
        "Other examples include:\n",
        "1. Ranking algorithm for google\n",
        "2. Markov chains `\n",
        "3. Electrical circuit\n",
        "4. Cryptography\n",
        "5. Genetics\n",
        "6. Economics"
      ],
      "metadata": {
        "id": "_NZHSRNHDLL_"
      }
    },
    {
      "cell_type": "code",
      "source": [],
      "metadata": {
        "id": "UH_CpubF4kFP"
      },
      "execution_count": null,
      "outputs": []
    }
  ],
  "metadata": {
    "kernelspec": {
      "display_name": "Python 3",
      "language": "python",
      "name": "python3"
    },
    "language_info": {
      "codemirror_mode": {
        "name": "ipython",
        "version": 3
      },
      "file_extension": ".py",
      "mimetype": "text/x-python",
      "name": "python",
      "nbconvert_exporter": "python",
      "pygments_lexer": "ipython3",
      "version": "3.8.5"
    },
    "colab": {
      "provenance": []
    }
  },
  "nbformat": 4,
  "nbformat_minor": 0
}