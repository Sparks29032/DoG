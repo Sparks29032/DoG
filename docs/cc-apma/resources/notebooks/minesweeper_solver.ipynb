{
 "cells": [
  {
   "cell_type": "markdown",
   "id": "c997301c",
   "metadata": {},
   "source": [
    "Let us try to solve an example Minesweeper position using linear algebra."
   ]
  },
  {
   "cell_type": "code",
   "execution_count": null,
   "id": "94442650",
   "metadata": {},
   "outputs": [],
   "source": []
  }
 ],
 "metadata": {
  "kernelspec": {
   "display_name": "Python 3 (ipykernel)",
   "language": "python",
   "name": "python3"
  },
  "language_info": {
   "codemirror_mode": {
    "name": "ipython",
    "version": 3
   },
   "file_extension": ".py",
   "mimetype": "text/x-python",
   "name": "python",
   "nbconvert_exporter": "python",
   "pygments_lexer": "ipython3",
   "version": "3.9.13"
  }
 },
 "nbformat": 4,
 "nbformat_minor": 5
}
